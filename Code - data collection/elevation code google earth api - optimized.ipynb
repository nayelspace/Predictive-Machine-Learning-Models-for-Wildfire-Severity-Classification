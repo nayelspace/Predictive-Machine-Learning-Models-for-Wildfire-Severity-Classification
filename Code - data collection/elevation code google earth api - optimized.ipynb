{
 "cells": [
  {
   "cell_type": "code",
   "execution_count": 1,
   "id": "5bada66b",
   "metadata": {},
   "outputs": [
    {
     "data": {
      "text/html": [
       "<p>To authorize access needed by Earth Engine, open the following\n",
       "        URL in a web browser and follow the instructions:</p>\n",
       "        <p><a href=https://code.earthengine.google.com/client-auth?scopes=https%3A//www.googleapis.com/auth/earthengine%20https%3A//www.googleapis.com/auth/devstorage.full_control&request_id=HVohWxr4y4VrGnTNWOvVPHQBmoHRRbokiEjO-fDcJw0&tc=CJXbTJEvcON5bUdGbL2kfwHE_hVgkm8B2YPLJ9WSgzo&cc=y7SuUIZB16Xc2ZFQ1Ubzr_OfTnTP8bSuU1y8DGvgArg>https://code.earthengine.google.com/client-auth?scopes=https%3A//www.googleapis.com/auth/earthengine%20https%3A//www.googleapis.com/auth/devstorage.full_control&request_id=HVohWxr4y4VrGnTNWOvVPHQBmoHRRbokiEjO-fDcJw0&tc=CJXbTJEvcON5bUdGbL2kfwHE_hVgkm8B2YPLJ9WSgzo&cc=y7SuUIZB16Xc2ZFQ1Ubzr_OfTnTP8bSuU1y8DGvgArg</a></p>\n",
       "        <p>The authorization workflow will generate a code, which you should paste in the box below.</p>\n",
       "        "
      ],
      "text/plain": [
       "<IPython.core.display.HTML object>"
      ]
     },
     "metadata": {},
     "output_type": "display_data"
    },
    {
     "name": "stdout",
     "output_type": "stream",
     "text": [
      "Enter verification code: 4/1AVHEtk4XZIFr6qIL-2jRazkT0e7ux41pp_K1rmF7tYpf6P8iOogztQTzH8U\n",
      "\n",
      "Successfully saved authorization token.\n",
      "Exporting elevation and slope data...\n",
      "Exporting elevation and slope data...\n",
      "Exporting elevation and slope data...\n",
      "Elevation and slope data export completed.\n"
     ]
    }
   ],
   "source": [
    "import ee\n",
    "import datetime\n",
    "import pandas as pd\n",
    "import time\n",
    "\n",
    "# Authenticate and initialize the Earth Engine API\n",
    "ee.Authenticate()\n",
    "ee.Initialize()\n",
    "\n",
    "def get_elevation_and_slope(lat, lon):\n",
    "    point = ee.Geometry.Point([lon, lat])\n",
    "\n",
    "    elevation_image = ee.Image('USGS/SRTMGL1_003')\n",
    "    slope_image = ee.Terrain.slope(elevation_image)\n",
    "\n",
    "    elevation = elevation_image.reduceRegion(ee.Reducer.first(), point, 30).get('elevation') # 30 m native resolution of the dataset, to get the most precise value\n",
    "    slope = slope_image.reduceRegion(ee.Reducer.first(), point, 30).get('slope')\n",
    "\n",
    "    elevation_info = elevation.getInfo()\n",
    "    slope_info = slope.getInfo()\n",
    "\n",
    "    if elevation_info is None or slope_info is None:\n",
    "        return None, None\n",
    "\n",
    "    return elevation_info, slope_info\n",
    "\n",
    "df = pd.read_csv(\"mapdata_wildfires.csv\")\n",
    "df_error = pd.read_csv(\"weather_data_wildfires_error.csv\")\n",
    "\n",
    "\n",
    "coordinates = []\n",
    "coordinates_error = []\n",
    "\n",
    "for _, row in df.iterrows():\n",
    "    lat = row['incident_latitude']\n",
    "    lon = row['incident_longitude']\n",
    "    coordinates.append((lat, lon))\n",
    "    \n",
    "for _, row in df_error.iterrows():\n",
    "    lat = row['Latitude']\n",
    "    lon = row['Longitude']\n",
    "    coordinates_error.append((lat, lon))\n",
    "\n",
    "elevation_slope_values = []\n",
    "\n",
    "for lat, lon in coordinates_error: # Change for full dataset, remove _error\n",
    "    elevation, slope = get_elevation_and_slope(lat, lon)\n",
    "    elevation_slope_values.append((elevation, slope))\n",
    "\n",
    "feature_list = ee.FeatureCollection([\n",
    "    ee.Feature(ee.Geometry.Point(lon, lat), {'Latitude': lat, 'Longitude': lon, 'Elevation': elevation, 'Slope': slope})\n",
    "    for (lat, lon), (elevation, slope) in zip(coordinates_error, elevation_slope_values) # Change for full dataset, remove _error\n",
    "])\n",
    "\n",
    "task_config = {\n",
    "    'folder': 'EarthEngineExports',\n",
    "    'fileFormat': 'CSV',\n",
    "    'driveFileNamePrefix': 'elevation_slope_data_wildfires',\n",
    "    'selectors': ['Latitude', 'Longitude', 'Elevation', 'Slope']\n",
    "}\n",
    "\n",
    "task = ee.batch.Export.table.toDrive(feature_list, **task_config)\n",
    "task.start()\n",
    "\n",
    "while task.status()['state'] in ['READY', 'RUNNING']:\n",
    "    print('Exporting elevation and slope data...')\n",
    "    time.sleep(30)\n",
    "\n",
    "print('Elevation and slope data export completed.')\n"
   ]
  },
  {
   "cell_type": "code",
   "execution_count": null,
   "id": "0788ba9f",
   "metadata": {},
   "outputs": [],
   "source": []
  }
 ],
 "metadata": {
  "kernelspec": {
   "display_name": "Python 3 (ipykernel)",
   "language": "python",
   "name": "python3"
  },
  "language_info": {
   "codemirror_mode": {
    "name": "ipython",
    "version": 3
   },
   "file_extension": ".py",
   "mimetype": "text/x-python",
   "name": "python",
   "nbconvert_exporter": "python",
   "pygments_lexer": "ipython3",
   "version": "3.8.16"
  }
 },
 "nbformat": 4,
 "nbformat_minor": 5
}
