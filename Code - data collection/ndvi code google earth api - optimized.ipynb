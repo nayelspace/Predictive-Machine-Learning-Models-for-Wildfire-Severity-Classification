{
 "cells": [
  {
   "cell_type": "code",
   "execution_count": 1,
   "id": "7dfcf0f8",
   "metadata": {},
   "outputs": [
    {
     "data": {
      "text/html": [
       "<p>To authorize access needed by Earth Engine, open the following\n",
       "        URL in a web browser and follow the instructions:</p>\n",
       "        <p><a href=https://code.earthengine.google.com/client-auth?scopes=https%3A//www.googleapis.com/auth/earthengine%20https%3A//www.googleapis.com/auth/devstorage.full_control&request_id=kdoEdeBxsH5xd-b1J6bsQdGFsZZ3N4rXeiUR_WcnOb8&tc=tv34-CaxniUhBamXMskcPtD5B6mDxrL4AWtOdqgroys&cc=YhkS80NVq5Nk8t5YTBp3ocu9-4PLIm2ISV-VZt9Cd2w>https://code.earthengine.google.com/client-auth?scopes=https%3A//www.googleapis.com/auth/earthengine%20https%3A//www.googleapis.com/auth/devstorage.full_control&request_id=kdoEdeBxsH5xd-b1J6bsQdGFsZZ3N4rXeiUR_WcnOb8&tc=tv34-CaxniUhBamXMskcPtD5B6mDxrL4AWtOdqgroys&cc=YhkS80NVq5Nk8t5YTBp3ocu9-4PLIm2ISV-VZt9Cd2w</a></p>\n",
       "        <p>The authorization workflow will generate a code, which you should paste in the box below.</p>\n",
       "        "
      ],
      "text/plain": [
       "<IPython.core.display.HTML object>"
      ]
     },
     "metadata": {},
     "output_type": "display_data"
    },
    {
     "name": "stdout",
     "output_type": "stream",
     "text": [
      "Enter verification code: 4/1AVHEtk7AwostHlo5ms7f6QapIn4ZMsIMxwPd_h9y65JxDczTif-LNR9g1c8\n",
      "\n",
      "Successfully saved authorization token.\n",
      "Exporting NDVI data...\n",
      "Exporting NDVI data...\n",
      "Exporting NDVI data...\n",
      "Exporting NDVI data...\n",
      "Exporting NDVI data...\n",
      "NDVI data export completed.\n"
     ]
    }
   ],
   "source": [
    "import ee\n",
    "import datetime\n",
    "import pandas as pd\n",
    "import time\n",
    "\n",
    "# Authenticate and initialize the Earth Engine API\n",
    "ee.Authenticate()\n",
    "ee.Initialize()\n",
    "\n",
    "def get_ndvi(lat, lon, date):\n",
    "    date = datetime.datetime.strptime(date, '%Y-%m-%d')\n",
    "    start_date = date - datetime.timedelta(days=365)\n",
    "    point = ee.Geometry.Point([lon, lat])\n",
    "\n",
    "    dataset = ee.ImageCollection('MODIS/006/MOD13A1') \\\n",
    "        .filterDate(ee.Date(start_date), ee.Date(date)) \\\n",
    "        .sort('system:time_start', opt_ascending=False) \\\n",
    "        .first()\n",
    "\n",
    "    if dataset is None:\n",
    "        return None\n",
    "\n",
    "    ndvi = dataset.select('NDVI')\n",
    "    ndvi_value = ndvi.reduceRegion(ee.Reducer.first(), point, 500).get('NDVI')\n",
    "    \n",
    "    return ndvi_value.getInfo()\n",
    "\n",
    "df = pd.read_csv(\"mapdata_wildfires.csv\")\n",
    "df_error = pd.read_csv(\"weather_data_wildfires_error.csv\")\n",
    "\n",
    "coordinates_and_dates = []\n",
    "coordinates_and_dates_error = []\n",
    "\n",
    "for _, row in df.iterrows():\n",
    "    lat = row['incident_latitude']\n",
    "    lon = row['incident_longitude']\n",
    "    date_created = row['incident_dateonly_created']\n",
    "    coordinates_and_dates.append((lat, lon, date_created))\n",
    "\n",
    "for _, row in df_error.iterrows():\n",
    "    lat = row['Latitude']\n",
    "    lon = row['Longitude']\n",
    "    date_created = row['Date']\n",
    "    coordinates_and_dates_error.append((lat, lon, date_created))\n",
    "\n",
    "ndvi_values = []\n",
    "\n",
    "for lat, lon, date in coordinates_and_dates_error: # Change for full dataset, remove _error\n",
    "    ndvi_value = get_ndvi(lat, lon, date)\n",
    "    ndvi_values.append(ndvi_value)\n",
    "\n",
    "feature_list = ee.FeatureCollection([\n",
    "    ee.Feature(ee.Geometry.Point(lon, lat), {'Latitude': lat, 'Longitude': lon, 'Date': date, 'NDVI': ndvi})\n",
    "    for (lat, lon, date), ndvi in zip(coordinates_and_dates_error , ndvi_values) # Change for full dataset, remove _error\n",
    "])\n",
    "\n",
    "task_config = {\n",
    "    'folder': 'EarthEngineExports',\n",
    "    'fileFormat': 'CSV',\n",
    "    'driveFileNamePrefix': 'vegetation_indices_data_wildfires',\n",
    "    'selectors': ['Latitude', 'Longitude', 'Date', 'NDVI']  # Add this line to specify which properties to export\n",
    "}\n",
    "\n",
    "task = ee.batch.Export.table.toDrive(feature_list, **task_config)\n",
    "task.start()\n",
    "\n",
    "while task.status()['state'] in ['READY', 'RUNNING']:\n",
    "    print('Exporting NDVI data...')\n",
    "    time.sleep(30)\n",
    "\n",
    "print('NDVI data export completed.')\n"
   ]
  },
  {
   "cell_type": "code",
   "execution_count": null,
   "id": "09f97652",
   "metadata": {},
   "outputs": [],
   "source": []
  }
 ],
 "metadata": {
  "kernelspec": {
   "display_name": "Python 3 (ipykernel)",
   "language": "python",
   "name": "python3"
  },
  "language_info": {
   "codemirror_mode": {
    "name": "ipython",
    "version": 3
   },
   "file_extension": ".py",
   "mimetype": "text/x-python",
   "name": "python",
   "nbconvert_exporter": "python",
   "pygments_lexer": "ipython3",
   "version": "3.8.16"
  }
 },
 "nbformat": 4,
 "nbformat_minor": 5
}
